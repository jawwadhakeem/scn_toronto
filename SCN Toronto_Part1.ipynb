{
 "cells": [
  {
   "cell_type": "code",
   "execution_count": 1,
   "metadata": {
    "scrolled": false
   },
   "outputs": [
    {
     "name": "stdout",
     "output_type": "stream",
     "text": [
      "Solving environment: done\n",
      "\n",
      "## Package Plan ##\n",
      "\n",
      "  environment location: /opt/conda/envs/DSX-Python35\n",
      "\n",
      "  added / updated specs: \n",
      "    - geopy\n",
      "\n",
      "\n",
      "The following packages will be downloaded:\n",
      "\n",
      "    package                    |            build\n",
      "    ---------------------------|-----------------\n",
      "    geographiclib-1.49         |             py_0          32 KB  conda-forge\n",
      "    ca-certificates-2019.3.9   |       hecc5488_0         146 KB  conda-forge\n",
      "    geopy-1.19.0               |             py_0          53 KB  conda-forge\n",
      "    openssl-1.0.2r             |       h14c3975_0         3.1 MB  conda-forge\n",
      "    certifi-2018.8.24          |        py35_1001         139 KB  conda-forge\n",
      "    ------------------------------------------------------------\n",
      "                                           Total:         3.5 MB\n",
      "\n",
      "The following NEW packages will be INSTALLED:\n",
      "\n",
      "    geographiclib:   1.49-py_0         conda-forge\n",
      "    geopy:           1.19.0-py_0       conda-forge\n",
      "\n",
      "The following packages will be UPDATED:\n",
      "\n",
      "    ca-certificates: 2019.1.23-0                   --> 2019.3.9-hecc5488_0 conda-forge\n",
      "    certifi:         2018.8.24-py35_1              --> 2018.8.24-py35_1001 conda-forge\n",
      "    openssl:         1.0.2p-h14c3975_0             --> 1.0.2r-h14c3975_0   conda-forge\n",
      "\n",
      "\n",
      "Downloading and Extracting Packages\n",
      "geographiclib-1.49   | 32 KB     | ##################################### | 100% \n",
      "ca-certificates-2019 | 146 KB    | ##################################### | 100% \n",
      "geopy-1.19.0         | 53 KB     | ##################################### | 100% \n",
      "openssl-1.0.2r       | 3.1 MB    | ##################################### | 100% \n",
      "certifi-2018.8.24    | 139 KB    | ##################################### | 100% \n",
      "Preparing transaction: done\n",
      "Verifying transaction: done\n",
      "Executing transaction: done\n",
      "Solving environment: done\n",
      "\n",
      "## Package Plan ##\n",
      "\n",
      "  environment location: /opt/conda/envs/DSX-Python35\n",
      "\n",
      "  added / updated specs: \n",
      "    - folium=0.5.0\n",
      "\n",
      "\n",
      "The following packages will be downloaded:\n",
      "\n",
      "    package                    |            build\n",
      "    ---------------------------|-----------------\n",
      "    folium-0.5.0               |             py_0          45 KB  conda-forge\n",
      "    altair-2.2.2               |           py35_1         462 KB  conda-forge\n",
      "    branca-0.3.1               |             py_0          25 KB  conda-forge\n",
      "    vincent-0.4.4              |             py_1          28 KB  conda-forge\n",
      "    ------------------------------------------------------------\n",
      "                                           Total:         560 KB\n",
      "\n",
      "The following NEW packages will be INSTALLED:\n",
      "\n",
      "    altair:  2.2.2-py35_1 conda-forge\n",
      "    branca:  0.3.1-py_0   conda-forge\n",
      "    folium:  0.5.0-py_0   conda-forge\n",
      "    vincent: 0.4.4-py_1   conda-forge\n",
      "\n",
      "\n",
      "Downloading and Extracting Packages\n",
      "folium-0.5.0         | 45 KB     | ##################################### | 100% \n",
      "altair-2.2.2         | 462 KB    | ##################################### | 100% \n",
      "branca-0.3.1         | 25 KB     | ##################################### | 100% \n",
      "vincent-0.4.4        | 28 KB     | ##################################### | 100% \n",
      "Preparing transaction: done\n",
      "Verifying transaction: done\n",
      "Executing transaction: done\n",
      "Libraries imported.\n"
     ]
    }
   ],
   "source": [
    "import numpy as np # library to handle data in a vectorized manner\n",
    "\n",
    "import pandas as pd # library for data analsysis\n",
    "pd.set_option('display.max_columns', None)\n",
    "pd.set_option('display.max_rows', None)\n",
    "\n",
    "import json # library to handle JSON files\n",
    "\n",
    "!conda install -c conda-forge geopy --yes # uncomment this line if you haven't completed the Foursquare API lab\n",
    "from geopy.geocoders import Nominatim # convert an address into latitude and longitude values\n",
    "\n",
    "import requests # library to handle requests\n",
    "from pandas.io.json import json_normalize # tranform JSON file into a pandas dataframe\n",
    "\n",
    "# Matplotlib and associated plotting modules\n",
    "import matplotlib.cm as cm\n",
    "import matplotlib.colors as colors\n",
    "\n",
    "# import k-means from clustering stage\n",
    "from sklearn.cluster import KMeans\n",
    "\n",
    "!conda install -c conda-forge folium=0.5.0 --yes # uncomment this line if you haven't completed the Foursquare API lab\n",
    "import folium # map rendering library\n",
    "\n",
    "print('Libraries imported.')"
   ]
  },
  {
   "cell_type": "markdown",
   "metadata": {},
   "source": [
    "# Download and load the data into a pandas dataframe\n",
    "1. I've copied the data and created a csv file out of it. I'm fetching it from a URL hosted on the dropbox public folder."
   ]
  },
  {
   "cell_type": "code",
   "execution_count": 42,
   "metadata": {},
   "outputs": [],
   "source": [
    "!wget -q -O 'toronto_data.csv' https://www.dropbox.com/s/yxodhl9t7z8s2z5/toronto.csv?dl=0\n",
    "dfToronto = pd.read_csv('toronto_data.csv')"
   ]
  },
  {
   "cell_type": "markdown",
   "metadata": {},
   "source": [
    "# Dataframe preparation\n",
    "1. Remove the 'Not assigned' Borough entries from the dataframe as their geolocation would not be looked up.\n",
    "2. Update Neighbourhood with Borough value where Neighbourhood is 'Not assigned'."
   ]
  },
  {
   "cell_type": "code",
   "execution_count": 44,
   "metadata": {},
   "outputs": [],
   "source": [
    "dfToronto = dfToronto.drop(dfToronto[dfToronto.Borough == 'Not assigned'].index)\n",
    "dfToronto.loc[dfToronto['Neighbourhood'] == 'Not assigned', 'Neighbourhood'] = dfToronto['Borough']"
   ]
  },
  {
   "cell_type": "code",
   "execution_count": 45,
   "metadata": {},
   "outputs": [
    {
     "data": {
      "text/plain": [
       "(24, 3)"
      ]
     },
     "execution_count": 45,
     "metadata": {},
     "output_type": "execute_result"
    }
   ],
   "source": [
    "dfToronto.shape"
   ]
  }
 ],
 "metadata": {
  "kernelspec": {
   "display_name": "Python 3.5",
   "language": "python",
   "name": "python3"
  },
  "language_info": {
   "codemirror_mode": {
    "name": "ipython",
    "version": 3
   },
   "file_extension": ".py",
   "mimetype": "text/x-python",
   "name": "python",
   "nbconvert_exporter": "python",
   "pygments_lexer": "ipython3",
   "version": "3.5.5"
  }
 },
 "nbformat": 4,
 "nbformat_minor": 1
}
